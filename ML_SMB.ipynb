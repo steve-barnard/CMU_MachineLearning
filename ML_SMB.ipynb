{
 "cells": [
  {
   "cell_type": "code",
   "execution_count": 1,
   "metadata": {},
   "outputs": [],
   "source": [
    "# IMPORTING LIBRARIES\n",
    "import numpy as np\n",
    "import matplotlib.pyplot as plt \n",
    "import sklearn\n",
    "from sklearn import datasets\n",
    "from sklearn import linear_model\n",
    "\n",
    "# IMPORTING DATA\n",
    "digits = datasets.load_digits()"
   ]
  },
  {
   "cell_type": "code",
   "execution_count": 2,
   "metadata": {},
   "outputs": [
    {
     "data": {
      "text/plain": [
       "dict_keys(['data', 'target', 'target_names', 'images', 'DESCR'])"
      ]
     },
     "execution_count": 2,
     "metadata": {},
     "output_type": "execute_result"
    }
   ],
   "source": [
    "# INSPECT THE DATASET TO SEE WHAT OBJECTS IT CONTAINS\n",
    "digits.keys()"
   ]
  },
  {
   "cell_type": "code",
   "execution_count": 3,
   "metadata": {},
   "outputs": [
    {
     "data": {
      "text/plain": [
       "(1797, 64)"
      ]
     },
     "execution_count": 3,
     "metadata": {},
     "output_type": "execute_result"
    }
   ],
   "source": [
    "digits.data.shape"
   ]
  },
  {
   "cell_type": "code",
   "execution_count": 4,
   "metadata": {},
   "outputs": [
    {
     "data": {
      "text/plain": [
       "'range 0..16'"
      ]
     },
     "execution_count": 4,
     "metadata": {},
     "output_type": "execute_result"
    }
   ],
   "source": [
    "digits.data.min() \n",
    "digits.data.max() \n",
    "digits.DESCR\n",
    "digits.DESCR[278:289]"
   ]
  },
  {
   "cell_type": "code",
   "execution_count": 5,
   "metadata": {},
   "outputs": [
    {
     "data": {
      "text/plain": [
       "array([ 0.91096272, -1.08903728, -9.08903728, ..., -3.08903728,\n",
       "       -0.08903728, -0.08903728])"
      ]
     },
     "execution_count": 5,
     "metadata": {},
     "output_type": "execute_result"
    }
   ],
   "source": [
    "digits.data[:,59] - digits.data[:,59].mean()"
   ]
  },
  {
   "cell_type": "code",
   "execution_count": 6,
   "metadata": {},
   "outputs": [
    {
     "name": "stdout",
     "output_type": "stream",
     "text": [
      "1 0.3038397328881469\n",
      "2 5.204785754034502\n",
      "3 11.835837506956038\n",
      "4 11.848080133555927\n",
      "11 11.979410127991097\n",
      "59 12.089037284362828\n"
     ]
    }
   ],
   "source": [
    "x = 0\n",
    "for i in range(0,64):\n",
    "    z = digits.data[:,i].mean()\n",
    "    if z > x:\n",
    "        x = z\n",
    "        print (i, x)"
   ]
  },
  {
   "cell_type": "code",
   "execution_count": 7,
   "metadata": {},
   "outputs": [],
   "source": [
    "#setting empty lists for later conversion to arrays\n",
    "z = 0\n",
    "list_0 = []\n",
    "list_1 = []\n",
    "list_2 = []\n",
    "list_3 = []\n",
    "list_4 = []\n",
    "list_5 = []\n",
    "list_6 = []\n",
    "list_7 = []\n",
    "list_8 = []\n",
    "list_9 = []"
   ]
  },
  {
   "cell_type": "code",
   "execution_count": 8,
   "metadata": {},
   "outputs": [],
   "source": [
    "def image_group(x,list_name, z=0):\n",
    "    for i in digits.target: #builds lists of target locations of corresponding digits 0-9\n",
    "        z += 1\n",
    "        if digits.target[i] == x:\n",
    "            list_name.append((z-1))"
   ]
  },
  {
   "cell_type": "code",
   "execution_count": 9,
   "metadata": {},
   "outputs": [],
   "source": [
    "image_group(0,list_0)\n",
    "image_group(1,list_1)\n",
    "image_group(2,list_2)\n",
    "image_group(3,list_3)\n",
    "image_group(4,list_4)\n",
    "image_group(5,list_5)\n",
    "image_group(6,list_6)\n",
    "image_group(7,list_7)\n",
    "image_group(8,list_8)\n",
    "image_group(9,list_9)"
   ]
  },
  {
   "cell_type": "code",
   "execution_count": 10,
   "metadata": {},
   "outputs": [],
   "source": [
    "array_0 = np.array(list_0) # converting list to array\n",
    "array_1 = np.array(list_1)\n",
    "array_2 = np.array(list_2)\n",
    "array_3 = np.array(list_3)\n",
    "array_4 = np.array(list_4)\n",
    "array_5 = np.array(list_5)\n",
    "array_6 = np.array(list_6)\n",
    "array_7 = np.array(list_7)\n",
    "array_8 = np.array(list_8)\n",
    "array_9 = np.array(list_9)"
   ]
  },
  {
   "cell_type": "code",
   "execution_count": 11,
   "metadata": {},
   "outputs": [],
   "source": [
    "array_0_mean =[]\n",
    "for i in array_0:\n",
    "    array_0_mean.append(digits.images[i].mean())\n",
    "\n",
    "array_1_mean =[]\n",
    "for i in array_1:\n",
    "    array_1_mean.append(digits.images[i].mean())  \n",
    "    \n",
    "array_2_mean =[]\n",
    "for i in array_2:\n",
    "    array_2_mean.append(digits.images[i].mean()) \n",
    "    \n",
    "array_3_mean =[]\n",
    "for i in array_3:\n",
    "    array_3_mean.append(digits.images[i].mean())   \n",
    "    \n",
    "array_4_mean =[]\n",
    "for i in array_4:\n",
    "    array_4_mean.append(digits.images[i].mean()) \n",
    "    \n",
    "array_5_mean =[]\n",
    "for i in array_5:\n",
    "    array_5_mean.append(digits.images[i].mean())  \n",
    "    \n",
    "array_6_mean =[]\n",
    "for i in array_6:\n",
    "    array_6_mean.append(digits.images[i].mean())\n",
    "    \n",
    "array_7_mean =[]\n",
    "for i in array_7:\n",
    "    array_7_mean.append(digits.images[i].mean())\n",
    "    \n",
    "array_8_mean =[]\n",
    "for i in array_8:\n",
    "    array_8_mean.append(digits.images[i].mean()) \n",
    "    \n",
    "array_9_mean =[]\n",
    "for i in array_9:\n",
    "    array_9_mean.append(digits.images[i].mean()) "
   ]
  },
  {
   "cell_type": "code",
   "execution_count": 12,
   "metadata": {},
   "outputs": [],
   "source": [
    "array_0_mean = np.array(array_0_mean)\n",
    "array_1_mean = np.array(array_1_mean)\n",
    "array_2_mean = np.array(array_2_mean)\n",
    "array_3_mean = np.array(array_3_mean)\n",
    "array_4_mean = np.array(array_4_mean)\n",
    "array_5_mean = np.array(array_5_mean)\n",
    "array_6_mean = np.array(array_6_mean)\n",
    "array_7_mean = np.array(array_7_mean)\n",
    "array_8_mean = np.array(array_8_mean)\n",
    "array_9_mean = np.array(array_9_mean)"
   ]
  },
  {
   "cell_type": "code",
   "execution_count": 13,
   "metadata": {},
   "outputs": [],
   "source": [
    "array_0_mean = array_0_mean.mean()\n",
    "array_1_mean = array_1_mean.mean()\n",
    "array_2_mean = array_2_mean.mean()\n",
    "array_3_mean = array_3_mean.mean()\n",
    "array_4_mean = array_4_mean.mean()\n",
    "array_5_mean = array_5_mean.mean()\n",
    "array_6_mean = array_6_mean.mean()\n",
    "array_7_mean = array_7_mean.mean()\n",
    "array_8_mean = array_8_mean.mean()\n",
    "array_9_mean = array_9_mean.mean()"
   ]
  },
  {
   "cell_type": "code",
   "execution_count": 14,
   "metadata": {},
   "outputs": [
    {
     "name": "stdout",
     "output_type": "stream",
     "text": [
      "The mean of 0 is:  4.952159410112359\n",
      "The mean of 1 is:  4.894144917582418\n",
      "The mean of 2 is:  4.905190677966102\n",
      "The mean of 3 is:  4.794313524590164\n",
      "The mean of 4 is:  4.854886049723757\n",
      "The mean of 5 is:  4.800394917582418\n",
      "The mean of 6 is:  4.863259668508287\n",
      "The mean of 7 is:  4.738914106145251\n",
      "The mean of 8 is:  5.155172413793103\n",
      "The mean of 9 is:  4.895138888888889\n"
     ]
    }
   ],
   "source": [
    "print(\"The mean of 0 is: \", array_0_mean)\n",
    "print(\"The mean of 1 is: \", array_1_mean)\n",
    "print(\"The mean of 2 is: \", array_2_mean)\n",
    "print(\"The mean of 3 is: \", array_3_mean)\n",
    "print(\"The mean of 4 is: \", array_4_mean)\n",
    "print(\"The mean of 5 is: \", array_5_mean)\n",
    "print(\"The mean of 6 is: \", array_6_mean)\n",
    "print(\"The mean of 7 is: \", array_7_mean)\n",
    "print(\"The mean of 8 is: \", array_8_mean)\n",
    "print(\"The mean of 9 is: \", array_9_mean)  #this could all be refactored into functions with additional time."
   ]
  },
  {
   "cell_type": "code",
   "execution_count": 15,
   "metadata": {},
   "outputs": [],
   "source": [
    "# LOAD THE DATASET\n",
    "\n",
    "X = digits[\"data\"]\n",
    "y = digits[\"target\"]"
   ]
  },
  {
   "cell_type": "code",
   "execution_count": 16,
   "metadata": {},
   "outputs": [],
   "source": [
    "# SPLIT THE DATASET INTO A TRAINING AND TEST SET\n",
    "\n",
    "Xtrain = X[:1200]\n",
    "Xtest = X[1200:]\n",
    "\n",
    "ytrain = y[:1200]\n",
    "ytest = y[1200:]\n"
   ]
  },
  {
   "cell_type": "code",
   "execution_count": 17,
   "metadata": {},
   "outputs": [
    {
     "data": {
      "text/plain": [
       "<matplotlib.image.AxesImage at 0x1cacad919e8>"
      ]
     },
     "execution_count": 17,
     "metadata": {},
     "output_type": "execute_result"
    },
    {
     "data": {
      "image/png": "[encoded data removed]",
      "text/plain": [
       "<Figure size 288x288 with 1 Axes>"
      ]
     },
     "metadata": {},
     "output_type": "display_data"
    }
   ],
   "source": [
    "# IF YOU WANT TO VISUALIZE A DIGIT: \n",
    "plt.matshow(digits.images[178])"
   ]
  },
  {
   "cell_type": "markdown",
   "metadata": {},
   "source": [
    "# K-means clustering"
   ]
  },
  {
   "cell_type": "code",
   "execution_count": 18,
   "metadata": {},
   "outputs": [],
   "source": [
    "k = 10\n",
    "i=1"
   ]
  },
  {
   "cell_type": "code",
   "execution_count": 19,
   "metadata": {},
   "outputs": [],
   "source": [
    "iterations = 100"
   ]
  },
  {
   "cell_type": "code",
   "execution_count": 20,
   "metadata": {},
   "outputs": [],
   "source": [
    "def initialize_centroids(points, k):\n",
    "    return points[np.random.choice(points.shape[0], size=k)]"
   ]
  },
  {
   "cell_type": "code",
   "execution_count": 21,
   "metadata": {},
   "outputs": [],
   "source": [
    "centroids = initialize_centroids(digits.data,k)"
   ]
  },
  {
   "cell_type": "code",
   "execution_count": 22,
   "metadata": {},
   "outputs": [],
   "source": [
    "def dist_func(centroids,data):\n",
    "    return np.linalg.norm(data-centroids,axis =1)"
   ]
  },
  {
   "cell_type": "code",
   "execution_count": 23,
   "metadata": {},
   "outputs": [],
   "source": [
    "L2_dist = np.zeros([digits.data.shape[0], k], dtype=np.float64)\n",
    "assignment = np.zeros(digits.data.shape[0], dtype=np.float64)"
   ]
  },
  {
   "cell_type": "code",
   "execution_count": 24,
   "metadata": {},
   "outputs": [],
   "source": [
    "\n",
    "\n",
    "for i in range (iterations):\n",
    "    for i, mu in enumerate(centroids): # assigns point to nearest centroid\n",
    "        L2_dist[:,i] = dist_func(mu,digits.data) # where distances are stored\n",
    "    \n",
    "    assignment = np.argmin(L2_dist, axis =1)  # assigns membership based on nearest centroid\n",
    "    \n",
    "    for mu in range(k): #update centroid to new location\n",
    "        centroids[mu] = np.mean(digits.data[assignment == mu], 0)\n",
    "        "
   ]
  },
  {
   "cell_type": "code",
   "execution_count": 25,
   "metadata": {},
   "outputs": [],
   "source": [
    "def centroid_num (mu):\n",
    "    centroids[mu].shape\n",
    "    b = centroids[mu]\n",
    "    b = b.reshape(8,8)\n",
    "    plt.matshow(b)"
   ]
  },
  {
   "cell_type": "code",
   "execution_count": 26,
   "metadata": {},
   "outputs": [
    {
     "data": {
      "image/png": "[encoded data removed]",
      "text/plain": [
       "<Figure size 288x288 with 1 Axes>"
      ]
     },
     "metadata": {},
     "output_type": "display_data"
    },
    {
     "data": {
      "image/png": "[encoded data removed]",
      "text/plain": [
       "<Figure size 288x288 with 1 Axes>"
      ]
     },
     "metadata": {},
     "output_type": "display_data"
    },
    {
     "data": {
      "image/png": "[encoded data removed]",
      "text/plain": [
       "<Figure size 288x288 with 1 Axes>"
      ]
     },
     "metadata": {},
     "output_type": "display_data"
    },
    {
     "data": {
      "image/png": "[encoded data removed]",
      "text/plain": [
       "<Figure size 288x288 with 1 Axes>"
      ]
     },
     "metadata": {},
     "output_type": "display_data"
    },
    {
     "data": {
      "image/png": "[encoded data removed]",
      "text/plain": [
       "<Figure size 288x288 with 1 Axes>"
      ]
     },
     "metadata": {},
     "output_type": "display_data"
    },
    {
     "data": {
      "image/png": "[encoded data removed]",
      "text/plain": [
       "<Figure size 288x288 with 1 Axes>"
      ]
     },
     "metadata": {},
     "output_type": "display_data"
    },
    {
     "data": {
      "image/png": "[encoded data removed]",
      "text/plain": [
       "<Figure size 288x288 with 1 Axes>"
      ]
     },
     "metadata": {},
     "output_type": "display_data"
    },
    {
     "data": {
      "image/png": "[encoded data removed]",
      "text/plain": [
       "<Figure size 288x288 with 1 Axes>"
      ]
     },
     "metadata": {},
     "output_type": "display_data"
    },
    {
     "data": {
      "image/png": "[encoded data removed]",
      "text/plain": [
       "<Figure size 288x288 with 1 Axes>"
      ]
     },
     "metadata": {},
     "output_type": "display_data"
    },
    {
     "data": {
      "image/png": "[encoded data removed]",
      "text/plain": [
       "<Figure size 288x288 with 1 Axes>"
      ]
     },
     "metadata": {},
     "output_type": "display_data"
    }
   ],
   "source": [
    "for i in range (k):\n",
    "    centroid_num(i)\n",
    "   "
   ]
  },
  {
   "cell_type": "markdown",
   "metadata": {},
   "source": [
    "## Loss Q2"
   ]
  },
  {
   "cell_type": "code",
   "execution_count": 27,
   "metadata": {},
   "outputs": [],
   "source": [
    "loss_array = np.zeros(digits.data.shape[0], dtype=np.float64)\n",
    "for i in range (10):\n",
    "    loss_array += np.linalg.norm(digits.data-centroids[i],axis =1)"
   ]
  },
  {
   "cell_type": "code",
   "execution_count": 28,
   "metadata": {},
   "outputs": [
    {
     "data": {
      "text/plain": [
       "748556.2989821042"
      ]
     },
     "execution_count": 28,
     "metadata": {},
     "output_type": "execute_result"
    }
   ],
   "source": [
    "loss_array.sum()"
   ]
  },
  {
   "cell_type": "markdown",
   "metadata": {},
   "source": [
    "## q3"
   ]
  },
  {
   "cell_type": "code",
   "execution_count": 29,
   "metadata": {},
   "outputs": [],
   "source": [
    "digits.data2 = digits.data\n",
    "\n",
    "for i in range(64):\n",
    "    digits.data2 = (digits.data2 - digits.data2.mean())"
   ]
  },
  {
   "cell_type": "code",
   "execution_count": 30,
   "metadata": {},
   "outputs": [],
   "source": [
    "k = 10\n",
    "i=1\n",
    "iterations = 100"
   ]
  },
  {
   "cell_type": "code",
   "execution_count": 31,
   "metadata": {},
   "outputs": [],
   "source": [
    "centroids = initialize_centroids(digits.data2,k)"
   ]
  },
  {
   "cell_type": "code",
   "execution_count": 32,
   "metadata": {},
   "outputs": [],
   "source": [
    "L2_dist = np.zeros([digits.data2.shape[0], k], dtype=np.float64)\n",
    "assignment = np.zeros(digits.data2.shape[0], dtype=np.float64)"
   ]
  },
  {
   "cell_type": "code",
   "execution_count": 33,
   "metadata": {},
   "outputs": [],
   "source": [
    "for i in range (iterations):\n",
    "    for i, mu in enumerate(centroids): # assigns point to nearest centroid\n",
    "        L2_dist[:,i] = dist_func(mu,digits.data2) # where distances are stored\n",
    "    \n",
    "    assignment = np.argmin(L2_dist, axis =1)  # assigns membership based on nearest centroid\n",
    "    \n",
    "    for mu in range(k): #update centroid to new location\n",
    "        centroids[mu] = np.mean(digits.data2[assignment == mu], 0)"
   ]
  },
  {
   "cell_type": "code",
   "execution_count": 34,
   "metadata": {},
   "outputs": [
    {
     "data": {
      "image/png": "[encoded data removed]",
      "text/plain": [
       "<Figure size 288x288 with 1 Axes>"
      ]
     },
     "metadata": {},
     "output_type": "display_data"
    },
    {
     "data": {
      "image/png": "[encoded data removed]",
      "text/plain": [
       "<Figure size 288x288 with 1 Axes>"
      ]
     },
     "metadata": {},
     "output_type": "display_data"
    },
    {
     "data": {
      "image/png": "[encoded data removed]",
      "text/plain": [
       "<Figure size 288x288 with 1 Axes>"
      ]
     },
     "metadata": {},
     "output_type": "display_data"
    },
    {
     "data": {
      "image/png": "[encoded data removed]",
      "text/plain": [
       "<Figure size 288x288 with 1 Axes>"
      ]
     },
     "metadata": {},
     "output_type": "display_data"
    },
    {
     "data": {
      "image/png": "[encoded data removed]",
      "text/plain": [
       "<Figure size 288x288 with 1 Axes>"
      ]
     },
     "metadata": {},
     "output_type": "display_data"
    },
    {
     "data": {
      "image/png": "[encoded data removed]",
      "text/plain": [
       "<Figure size 288x288 with 1 Axes>"
      ]
     },
     "metadata": {},
     "output_type": "display_data"
    },
    {
     "data": {
      "image/png": "[encoded data removed]",
      "text/plain": [
       "<Figure size 288x288 with 1 Axes>"
      ]
     },
     "metadata": {},
     "output_type": "display_data"
    },
    {
     "data": {
      "image/png": "[encoded data removed]",
      "text/plain": [
       "<Figure size 288x288 with 1 Axes>"
      ]
     },
     "metadata": {},
     "output_type": "display_data"
    },
    {
     "data": {
      "image/png": "[encoded data removed]",
      "text/plain": [
       "<Figure size 288x288 with 1 Axes>"
      ]
     },
     "metadata": {},
     "output_type": "display_data"
    },
    {
     "data": {
      "image/png": "[encoded data removed]",
      "text/plain": [
       "<Figure size 288x288 with 1 Axes>"
      ]
     },
     "metadata": {},
     "output_type": "display_data"
    }
   ],
   "source": [
    "for i in range (k):\n",
    "    centroid_num(i)"
   ]
  },
  {
   "cell_type": "code",
   "execution_count": 35,
   "metadata": {},
   "outputs": [],
   "source": [
    "loss_array2 = np.zeros(digits.data2.shape[0], dtype=np.float64)\n",
    "for i in range (10):\n",
    "    loss_array2 += np.linalg.norm(digits.data2-centroids[i],axis =1)"
   ]
  },
  {
   "cell_type": "code",
   "execution_count": 36,
   "metadata": {},
   "outputs": [
    {
     "data": {
      "text/plain": [
       "743657.0105923727"
      ]
     },
     "execution_count": 36,
     "metadata": {},
     "output_type": "execute_result"
    }
   ],
   "source": [
    "loss_array2.sum()"
   ]
  },
  {
   "cell_type": "markdown",
   "metadata": {},
   "source": [
    "## q4"
   ]
  },
  {
   "cell_type": "code",
   "execution_count": 37,
   "metadata": {},
   "outputs": [],
   "source": [
    "digits.data3 = digits.data\n",
    "\n",
    "for i in range(64):\n",
    "    digits.data3 = (digits.data3 / np.std(digits.data3))"
   ]
  },
  {
   "cell_type": "code",
   "execution_count": 38,
   "metadata": {},
   "outputs": [],
   "source": [
    "k = 10\n",
    "i=1\n",
    "iterations = 100"
   ]
  },
  {
   "cell_type": "code",
   "execution_count": 39,
   "metadata": {},
   "outputs": [],
   "source": [
    "centroids = initialize_centroids(digits.data3,k)"
   ]
  },
  {
   "cell_type": "code",
   "execution_count": 40,
   "metadata": {},
   "outputs": [],
   "source": [
    "L2_dist = np.zeros([digits.data3.shape[0], k], dtype=np.float64)\n",
    "assignment = np.zeros(digits.data3.shape[0], dtype=np.float64)"
   ]
  },
  {
   "cell_type": "code",
   "execution_count": 41,
   "metadata": {},
   "outputs": [],
   "source": [
    "for i in range (iterations):\n",
    "    for i, mu in enumerate(centroids): # assigns point to nearest centroid\n",
    "        L2_dist[:,i] = dist_func(mu,digits.data3) # where distances are stored\n",
    "    \n",
    "    assignment = np.argmin(L2_dist, axis =1)  # assigns membership based on nearest centroid\n",
    "    \n",
    "    for mu in range(k): #update centroid to new location\n",
    "        centroids[mu] = np.mean(digits.data3[assignment == mu], 0)"
   ]
  },
  {
   "cell_type": "code",
   "execution_count": 42,
   "metadata": {},
   "outputs": [
    {
     "data": {
      "image/png": "[encoded data removed]",
      "text/plain": [
       "<Figure size 288x288 with 1 Axes>"
      ]
     },
     "metadata": {},
     "output_type": "display_data"
    },
    {
     "data": {
      "image/png": "[encoded data removed]",
      "text/plain": [
       "<Figure size 288x288 with 1 Axes>"
      ]
     },
     "metadata": {},
     "output_type": "display_data"
    },
    {
     "data": {
      "image/png": "[encoded data removed]",
      "text/plain": [
       "<Figure size 288x288 with 1 Axes>"
      ]
     },
     "metadata": {},
     "output_type": "display_data"
    },
    {
     "data": {
      "image/png": "[encoded data removed]",
      "text/plain": [
       "<Figure size 288x288 with 1 Axes>"
      ]
     },
     "metadata": {},
     "output_type": "display_data"
    },
    {
     "data": {
      "image/png": "[encoded data removed]",
      "text/plain": [
       "<Figure size 288x288 with 1 Axes>"
      ]
     },
     "metadata": {},
     "output_type": "display_data"
    },
    {
     "data": {
      "image/png": "[encoded data removed]",
      "text/plain": [
       "<Figure size 288x288 with 1 Axes>"
      ]
     },
     "metadata": {},
     "output_type": "display_data"
    },
    {
     "data": {
      "image/png": "[encoded data removed]",
      "text/plain": [
       "<Figure size 288x288 with 1 Axes>"
      ]
     },
     "metadata": {},
     "output_type": "display_data"
    },
    {
     "data": {
      "image/png": "[encoded data removed]",
      "text/plain": [
       "<Figure size 288x288 with 1 Axes>"
      ]
     },
     "metadata": {},
     "output_type": "display_data"
    },
    {
     "data": {
      "image/png": "[encoded data removed]",
      "text/plain": [
       "<Figure size 288x288 with 1 Axes>"
      ]
     },
     "metadata": {},
     "output_type": "display_data"
    },
    {
     "data": {
      "image/png": "[encoded data removed]",
      "text/plain": [
       "<Figure size 288x288 with 1 Axes>"
      ]
     },
     "metadata": {},
     "output_type": "display_data"
    }
   ],
   "source": [
    "for i in range (k):\n",
    "    centroid_num(i)"
   ]
  },
  {
   "cell_type": "code",
   "execution_count": 43,
   "metadata": {},
   "outputs": [],
   "source": [
    "loss_array3 = np.zeros(digits.data3.shape[0], dtype=np.float64)\n",
    "for i in range (10):\n",
    "    loss_array2 += np.linalg.norm(digits.data3-centroids[i],axis =1)"
   ]
  },
  {
   "cell_type": "code",
   "execution_count": 44,
   "metadata": {},
   "outputs": [
    {
     "data": {
      "text/plain": [
       "0.0"
      ]
     },
     "execution_count": 44,
     "metadata": {},
     "output_type": "execute_result"
    }
   ],
   "source": [
    "loss_array3.sum()"
   ]
  },
  {
   "cell_type": "markdown",
   "metadata": {},
   "source": [
    "# PCA"
   ]
  },
  {
   "cell_type": "markdown",
   "metadata": {},
   "source": [
    "### my attempt at PCA"
   ]
  },
  {
   "cell_type": "code",
   "execution_count": 45,
   "metadata": {},
   "outputs": [],
   "source": [
    "X = digits.data"
   ]
  },
  {
   "cell_type": "code",
   "execution_count": 46,
   "metadata": {},
   "outputs": [],
   "source": [
    "for i in range(0,64):\n",
    "    X[:,i] = X[:,i] - X[:,i].mean() #normalize"
   ]
  },
  {
   "cell_type": "code",
   "execution_count": 47,
   "metadata": {},
   "outputs": [],
   "source": [
    "n = X.shape[0] # number of instances"
   ]
  },
  {
   "cell_type": "code",
   "execution_count": 48,
   "metadata": {},
   "outputs": [
    {
     "data": {
      "text/plain": [
       "array([[ 0.        , -0.30383973, -0.20478575, ..., -6.7640512 ,\n",
       "        -2.06789093, -0.36449638],\n",
       "       [ 0.        , -0.30383973, -5.20478575, ...,  3.2359488 ,\n",
       "        -2.06789093, -0.36449638],\n",
       "       [ 0.        , -0.30383973, -5.20478575, ...,  9.2359488 ,\n",
       "         6.93210907, -0.36449638],\n",
       "       ...,\n",
       "       [ 0.        , -0.30383973, -4.20478575, ..., -0.7640512 ,\n",
       "        -2.06789093, -0.36449638],\n",
       "       [ 0.        , -0.30383973, -3.20478575, ...,  5.2359488 ,\n",
       "        -2.06789093, -0.36449638],\n",
       "       [ 0.        , -0.30383973,  4.79521425, ...,  5.2359488 ,\n",
       "        -1.06789093, -0.36449638]])"
      ]
     },
     "execution_count": 48,
     "metadata": {},
     "output_type": "execute_result"
    }
   ],
   "source": [
    "X #standardized data"
   ]
  },
  {
   "cell_type": "code",
   "execution_count": 49,
   "metadata": {},
   "outputs": [],
   "source": [
    "covar = (((X.T).dot(X))) #covariance matrix"
   ]
  },
  {
   "cell_type": "code",
   "execution_count": 50,
   "metadata": {},
   "outputs": [
    {
     "data": {
      "text/plain": [
       "array([[    0.        ,     0.        ,     0.        , ...,\n",
       "            0.        ,     0.        ,     0.        ],\n",
       "       [    0.        ,  1478.10350584,  4312.1869783 , ...,\n",
       "         -287.17195326,   176.93155259,  -133.01502504],\n",
       "       [    0.        ,  4312.1869783 , 40604.63884252, ...,\n",
       "        -2075.17084029,  2536.01613801,  1310.86533111],\n",
       "       ...,\n",
       "       [    0.        ,  -287.17195326, -2075.17084029, ...,\n",
       "        62531.95770729, 28104.78575403,  5164.54646633],\n",
       "       [    0.        ,   176.93155259,  2536.01613801, ...,\n",
       "        28104.78575403, 30051.71730662,  8478.53144129],\n",
       "       [    0.        ,  -133.01502504,  1310.86533111, ...,\n",
       "         5164.54646633,  8478.53144129,  6214.25486923]])"
      ]
     },
     "execution_count": 50,
     "metadata": {},
     "output_type": "execute_result"
    }
   ],
   "source": [
    "covar"
   ]
  },
  {
   "cell_type": "code",
   "execution_count": 51,
   "metadata": {},
   "outputs": [],
   "source": [
    "eig_decomp = np.linalg.eig(covar)"
   ]
  },
  {
   "cell_type": "code",
   "execution_count": 52,
   "metadata": {},
   "outputs": [],
   "source": [
    "eig_vals = eig_decomp[0]"
   ]
  },
  {
   "cell_type": "code",
   "execution_count": 53,
   "metadata": {},
   "outputs": [],
   "source": [
    "eig_vecs = eig_decomp[1] "
   ]
  },
  {
   "cell_type": "code",
   "execution_count": 54,
   "metadata": {},
   "outputs": [
    {
     "data": {
      "text/plain": [
       "[14.89059358406383,\n",
       " 13.618771239635464,\n",
       " 11.794593763975778,\n",
       " 8.409979421009227,\n",
       " 5.782414664005544,\n",
       " 4.916910317124016,\n",
       " 4.315987010825764,\n",
       " 3.661372577084042,\n",
       " 3.353248097967125,\n",
       " 3.07880620890456,\n",
       " 2.3723408440031166,\n",
       " 2.2726965688095593,\n",
       " 1.8218633129951947,\n",
       " 1.773854937181912,\n",
       " 1.4671010927893136,\n",
       " 1.4097156016087071,\n",
       " 1.3185892007274214,\n",
       " 1.248137817825559,\n",
       " 1.0177179603215636,\n",
       " 0.9056174389949888,\n",
       " 0.889538460519486,\n",
       " 0.7971231565335716,\n",
       " 0.767493254563722,\n",
       " 0.7229035693267001,\n",
       " 0.6958888509009783,\n",
       " 0.5960814580386103,\n",
       " 0.5756146883400506,\n",
       " 0.5151575817493699,\n",
       " 0.48953977669081533,\n",
       " 0.4288879680557591,\n",
       " 0.3736060483256222,\n",
       " 0.353274223449697,\n",
       " 0.33668398553907414,\n",
       " 0.3280298505276719,\n",
       " 0.30832088410218345,\n",
       " 0.29377862855699177,\n",
       " 0.2565886088562695,\n",
       " 0.22774239743306524,\n",
       " 0.2222779221134308,\n",
       " 0.2114303926386335,\n",
       " 0.1899090618411078,\n",
       " 0.15865290661707537,\n",
       " 0.15115993446663145,\n",
       " 0.14057876368111155,\n",
       " 0.11662229032996958,\n",
       " 0.10749252110440087,\n",
       " 0.09640530649619393,\n",
       " 0.07746302710930146,\n",
       " 0.055721155298288534,\n",
       " 0.040433069289532546,\n",
       " 0.02099163271936534,\n",
       " 0.008247970977784775,\n",
       " 0.005251499804655673,\n",
       " 0.005052437189832738,\n",
       " 0.0032996136272426834,\n",
       " 0.0012436544537792102,\n",
       " 0.0007048279110015686,\n",
       " 0.00030143213935151906,\n",
       " 0.00010623080009011522,\n",
       " 5.500745871611251e-05,\n",
       " 3.429057021651805e-05,\n",
       " 0.0,\n",
       " 0.0,\n",
       " 0.0]"
      ]
     },
     "execution_count": 54,
     "metadata": {},
     "output_type": "execute_result"
    }
   ],
   "source": [
    "tot = sum(eig_vals)\n",
    "var_exp = [(i / tot)*100 for i in sorted(eig_vals, reverse=True)]\n",
    "var_exp"
   ]
  },
  {
   "cell_type": "code",
   "execution_count": 55,
   "metadata": {},
   "outputs": [],
   "source": [
    "Proj_5_data = (X.dot(eig_vecs.T[:,:5]))"
   ]
  },
  {
   "cell_type": "code",
   "execution_count": 56,
   "metadata": {},
   "outputs": [
    {
     "data": {
      "text/plain": [
       "array([-6.7640512 ,  1.58132153, -6.51507957,  6.09438045,  1.48846893])"
      ]
     },
     "execution_count": 56,
     "metadata": {},
     "output_type": "execute_result"
    }
   ],
   "source": [
    "Proj_5_data[0]"
   ]
  },
  {
   "cell_type": "markdown",
   "metadata": {},
   "source": [
    "## SKlearn Implementation for comparrison"
   ]
  },
  {
   "cell_type": "code",
   "execution_count": 57,
   "metadata": {},
   "outputs": [],
   "source": [
    "from sklearn.preprocessing import StandardScaler\n",
    "X_std = StandardScaler().fit_transform(digits.data)"
   ]
  },
  {
   "cell_type": "code",
   "execution_count": 58,
   "metadata": {},
   "outputs": [
    {
     "data": {
      "text/plain": [
       "array([[ 0.        , -0.33501649, -0.04308102, ..., -1.14664746,\n",
       "        -0.5056698 , -0.19600752],\n",
       "       [ 0.        , -0.33501649, -1.09493684, ...,  0.54856067,\n",
       "        -0.5056698 , -0.19600752],\n",
       "       [ 0.        , -0.33501649, -1.09493684, ...,  1.56568555,\n",
       "         1.6951369 , -0.19600752],\n",
       "       ...,\n",
       "       [ 0.        , -0.33501649, -0.88456568, ..., -0.12952258,\n",
       "        -0.5056698 , -0.19600752],\n",
       "       [ 0.        , -0.33501649, -0.67419451, ...,  0.8876023 ,\n",
       "        -0.5056698 , -0.19600752],\n",
       "       [ 0.        , -0.33501649,  1.00877481, ...,  0.8876023 ,\n",
       "        -0.26113572, -0.19600752]])"
      ]
     },
     "execution_count": 58,
     "metadata": {},
     "output_type": "execute_result"
    }
   ],
   "source": [
    "X_std"
   ]
  },
  {
   "cell_type": "code",
   "execution_count": 59,
   "metadata": {},
   "outputs": [
    {
     "name": "stdout",
     "output_type": "stream",
     "text": [
      "Covariance matrix \n",
      "[[ 0.          0.          0.         ...  0.          0.\n",
      "   0.        ]\n",
      " [ 0.          1.00055679  0.55692803 ... -0.02988686  0.02656195\n",
      "  -0.04391324]\n",
      " [ 0.          0.55692803  1.00055679 ... -0.04120565  0.07263924\n",
      "   0.08256908]\n",
      " ...\n",
      " [ 0.         -0.02988686 -0.04120565 ...  1.00055679  0.64868875\n",
      "   0.26213704]\n",
      " [ 0.          0.02656195  0.07263924 ...  0.64868875  1.00055679\n",
      "   0.62077355]\n",
      " [ 0.         -0.04391324  0.08256908 ...  0.26213704  0.62077355\n",
      "   1.00055679]]\n"
     ]
    }
   ],
   "source": [
    "mean_vec = np.mean(X_std, axis=0)\n",
    "cov_mat = (X_std - mean_vec).T.dot((X_std - mean_vec)) / (X_std.shape[0]-1)\n",
    "print('Covariance matrix \\n%s' %cov_mat)"
   ]
  },
  {
   "cell_type": "code",
   "execution_count": 60,
   "metadata": {},
   "outputs": [
    {
     "name": "stdout",
     "output_type": "stream",
     "text": [
      "NumPy covariance matrix: \n",
      "[[ 0.          0.          0.         ...  0.          0.\n",
      "   0.        ]\n",
      " [ 0.          1.00055679  0.55692803 ... -0.02988686  0.02656195\n",
      "  -0.04391324]\n",
      " [ 0.          0.55692803  1.00055679 ... -0.04120565  0.07263924\n",
      "   0.08256908]\n",
      " ...\n",
      " [ 0.         -0.02988686 -0.04120565 ...  1.00055679  0.64868875\n",
      "   0.26213704]\n",
      " [ 0.          0.02656195  0.07263924 ...  0.64868875  1.00055679\n",
      "   0.62077355]\n",
      " [ 0.         -0.04391324  0.08256908 ...  0.26213704  0.62077355\n",
      "   1.00055679]]\n"
     ]
    }
   ],
   "source": [
    "print('NumPy covariance matrix: \\n%s' %np.cov(X_std.T))"
   ]
  },
  {
   "cell_type": "code",
   "execution_count": 61,
   "metadata": {},
   "outputs": [
    {
     "name": "stdout",
     "output_type": "stream",
     "text": [
      "Eigenvectors \n",
      "[[ 0.          0.          0.         ...  1.          0.\n",
      "   0.        ]\n",
      " [ 0.18223392 -0.04702701  0.02358821 ...  0.          0.\n",
      "   0.        ]\n",
      " [ 0.285868   -0.0595648  -0.05679875 ...  0.          0.\n",
      "   0.        ]\n",
      " ...\n",
      " [ 0.103198    0.24261778 -0.02227952 ...  0.          0.\n",
      "   0.        ]\n",
      " [ 0.1198106   0.16508926  0.10036559 ...  0.          0.\n",
      "   0.        ]\n",
      " [ 0.07149362  0.07132924  0.09244589 ...  0.          0.\n",
      "   0.        ]]\n",
      "\n",
      "Eigenvalues \n",
      "[7.34477606 5.83549054 5.15396118 3.96623597 2.9663452  2.57204442\n",
      " 2.40600941 2.06867355 1.82993314 1.78951739 1.69784616 1.57287889\n",
      " 1.38870781 1.35933609 1.32152536 1.16829176 1.08368678 0.99977862\n",
      " 0.97438293 0.90891242 0.82271926 0.77631014 0.71155675 0.64552365\n",
      " 0.59527399 0.5765018  0.52673155 0.5106363  0.48686381 0.45560107\n",
      " 0.44285155 0.42230086 0.3991063  0.39110111 0.36094517 0.34860306\n",
      " 0.3195963  0.29406627 0.27692285 0.05037444 0.06328961 0.258273\n",
      " 0.24783029 0.2423566  0.07635394 0.08246812 0.09018543 0.09840876\n",
      " 0.10250434 0.11188655 0.11932898 0.12426371 0.13321081 0.14311427\n",
      " 0.217582   0.15818474 0.16875236 0.20799593 0.17612894 0.2000909\n",
      " 0.18983516 0.         0.         0.        ]\n"
     ]
    }
   ],
   "source": [
    "cov_mat = np.cov(X_std.T)\n",
    "\n",
    "eig_vals, eig_vecs = np.linalg.eig(cov_mat)\n",
    "\n",
    "print('Eigenvectors \\n%s' %eig_vecs)\n",
    "print('\\nEigenvalues \\n%s' %eig_vals)"
   ]
  },
  {
   "cell_type": "code",
   "execution_count": 62,
   "metadata": {},
   "outputs": [
    {
     "data": {
      "text/plain": [
       "(64, 64)"
      ]
     },
     "execution_count": 62,
     "metadata": {},
     "output_type": "execute_result"
    }
   ],
   "source": [
    "eig_vecs.shape"
   ]
  },
  {
   "cell_type": "code",
   "execution_count": 63,
   "metadata": {},
   "outputs": [
    {
     "data": {
      "text/plain": [
       "(64,)"
      ]
     },
     "execution_count": 63,
     "metadata": {},
     "output_type": "execute_result"
    }
   ],
   "source": [
    "eig_vals.shape"
   ]
  },
  {
   "cell_type": "code",
   "execution_count": 64,
   "metadata": {},
   "outputs": [],
   "source": [
    "eig_pairs = [(np.abs(eig_vals[i]), eig_vecs[:,i]) for i in range(len(eig_vals))]"
   ]
  },
  {
   "cell_type": "code",
   "execution_count": 65,
   "metadata": {},
   "outputs": [],
   "source": [
    "tot = sum(eig_vals)\n",
    "var_exp = [(i / tot)*100 for i in sorted(eig_vals, reverse=True)]\n",
    "cum_var_exp = np.cumsum(var_exp)"
   ]
  },
  {
   "cell_type": "code",
   "execution_count": 66,
   "metadata": {},
   "outputs": [
    {
     "data": {
      "text/plain": [
       "[12.033916097734906,\n",
       " 9.561054403097884,\n",
       " 8.444414892624533,\n",
       " 6.498407907524167,\n",
       " 4.860154875966408,\n",
       " 4.2141198692719435,\n",
       " 3.9420828035673905,\n",
       " 3.3893809246383264,\n",
       " 2.998221011625226,\n",
       " 2.932002551252216,\n",
       " 2.7818054635503273,\n",
       " 2.5770550925819973,\n",
       " 2.2753033157642397,\n",
       " 2.227179739514352,\n",
       " 2.165229431849246,\n",
       " 1.9141666064421272,\n",
       " 1.7755470851681923,\n",
       " 1.6380692742844256,\n",
       " 1.596460168862349,\n",
       " 1.4891911870878207,\n",
       " 1.347969565817935,\n",
       " 1.2719313702347546,\n",
       " 1.1658373505919453,\n",
       " 1.0576465985363197,\n",
       " 0.9753159471981092,\n",
       " 0.9445589897319964,\n",
       " 0.8630138269707232,\n",
       " 0.8366428536685112,\n",
       " 0.7976932484112403,\n",
       " 0.7464713709260603,\n",
       " 0.7255821513702743,\n",
       " 0.6919112454811822,\n",
       " 0.6539085355726165,\n",
       " 0.6407925738459832,\n",
       " 0.5913841117223415,\n",
       " 0.5711624052235226,\n",
       " 0.5236368034166364,\n",
       " 0.48180758644514216,\n",
       " 0.4537192598584494,\n",
       " 0.4231627532327801,\n",
       " 0.40605306997903773,\n",
       " 0.3970848082758294,\n",
       " 0.3564933031426161,\n",
       " 0.34078718147029957,\n",
       " 0.32783533528795367,\n",
       " 0.31103200734535635,\n",
       " 0.288575294108934,\n",
       " 0.2764892635235455,\n",
       " 0.2591749408814638,\n",
       " 0.23448300553563414,\n",
       " 0.21825685771200806,\n",
       " 0.20359763452537624,\n",
       " 0.1955124260198184,\n",
       " 0.18331849919718204,\n",
       " 0.1679463874955835,\n",
       " 0.16123606225672757,\n",
       " 0.14776269410608778,\n",
       " 0.13511841133708632,\n",
       " 0.1251007424973024,\n",
       " 0.10369573015571751,\n",
       " 0.08253509448180325,\n",
       " 0.0,\n",
       " 0.0,\n",
       " 0.0]"
      ]
     },
     "execution_count": 66,
     "metadata": {},
     "output_type": "execute_result"
    }
   ],
   "source": [
    "var_exp"
   ]
  },
  {
   "cell_type": "code",
   "execution_count": 67,
   "metadata": {},
   "outputs": [],
   "source": [
    "Project_5_vals = (X_std.dot(eig_vecs.T[:,:5]))"
   ]
  },
  {
   "cell_type": "code",
   "execution_count": 68,
   "metadata": {},
   "outputs": [
    {
     "data": {
      "text/plain": [
       "(1797, 5)"
      ]
     },
     "execution_count": 68,
     "metadata": {},
     "output_type": "execute_result"
    }
   ],
   "source": [
    "Project_5_vals.shape"
   ]
  },
  {
   "cell_type": "code",
   "execution_count": 69,
   "metadata": {},
   "outputs": [
    {
     "data": {
      "text/plain": [
       "array([-1.14664746, -0.28949594,  0.19209748,  0.97745873, -0.65349551])"
      ]
     },
     "execution_count": 69,
     "metadata": {},
     "output_type": "execute_result"
    }
   ],
   "source": [
    "Project_5_vals[0]"
   ]
  },
  {
   "cell_type": "markdown",
   "metadata": {},
   "source": [
    "# E.C. "
   ]
  },
  {
   "cell_type": "code",
   "execution_count": 70,
   "metadata": {},
   "outputs": [],
   "source": [
    "multi_class = sklearn.linear_model.LogisticRegression(multi_class='multinomial', solver='newton-cg')"
   ]
  },
  {
   "cell_type": "code",
   "execution_count": 71,
   "metadata": {},
   "outputs": [],
   "source": [
    "# LOAD THE DATASET\n",
    "\n",
    "X = digits[\"data\"]\n",
    "y = digits[\"target\"]"
   ]
  },
  {
   "cell_type": "code",
   "execution_count": 72,
   "metadata": {},
   "outputs": [],
   "source": [
    "# SPLIT THE DATASET INTO A TRAINING AND TEST SET\n",
    "\n",
    "Xtrain = X[:1200]\n",
    "Xtest = X[1200:]\n",
    "\n",
    "ytrain = y[:1200]\n",
    "ytest = y[1200:]\n"
   ]
  },
  {
   "cell_type": "code",
   "execution_count": 73,
   "metadata": {},
   "outputs": [],
   "source": [
    "num_classes = 10"
   ]
  },
  {
   "cell_type": "code",
   "execution_count": 74,
   "metadata": {},
   "outputs": [
    {
     "data": {
      "text/plain": [
       "LogisticRegression(C=1.0, class_weight=None, dual=False, fit_intercept=True,\n",
       "          intercept_scaling=1, max_iter=100, multi_class='multinomial',\n",
       "          n_jobs=None, penalty='l2', random_state=None, solver='newton-cg',\n",
       "          tol=0.0001, verbose=0, warm_start=False)"
      ]
     },
     "execution_count": 74,
     "metadata": {},
     "output_type": "execute_result"
    }
   ],
   "source": [
    "multi_class.fit(Xtrain, ytrain)"
   ]
  },
  {
   "cell_type": "code",
   "execution_count": 75,
   "metadata": {},
   "outputs": [],
   "source": [
    "X_pred = multi_class.predict(Xtest)"
   ]
  },
  {
   "cell_type": "code",
   "execution_count": 76,
   "metadata": {},
   "outputs": [
    {
     "data": {
      "text/plain": [
       "array([7, 7, 7, 5, 1, 0, 0, 2, 2, 7, 8, 2, 0, 1, 2, 6, 3, 3, 7, 3, 3, 4,\n",
       "       6, 6, 6, 4, 9, 1, 5, 0, 9, 5, 2, 8, 2, 0, 0, 1, 7, 6, 3, 2, 1, 7,\n",
       "       4, 6, 3, 1, 3, 9, 1, 7, 6, 8, 4, 3, 8, 4, 0, 5, 3, 6, 9, 6, 6, 7,\n",
       "       5, 4, 4, 7, 2, 8, 2, 2, 5, 7, 9, 5, 4, 8, 8, 4, 9, 0, 8, 9, 8, 0,\n",
       "       5, 2, 3, 4, 5, 6, 7, 8, 9, 0, 1, 2, 3, 0, 5, 6, 7, 8, 9, 0, 1, 2,\n",
       "       3, 6, 5, 6, 7, 8, 9, 0, 9, 5, 5, 6, 5, 0, 9, 8, 9, 8, 6, 1, 7, 7,\n",
       "       3, 5, 1, 0, 0, 2, 2, 7, 8, 2, 0, 1, 2, 6, 3, 3, 7, 3, 3, 6, 6, 6,\n",
       "       6, 4, 9, 1, 5, 0, 9, 6, 2, 8, 0, 0, 0, 1, 7, 6, 3, 2, 1, 7, 4, 6,\n",
       "       3, 1, 3, 9, 1, 7, 6, 8, 6, 3, 1, 4, 0, 5, 3, 6, 9, 6, 1, 7, 5, 4,\n",
       "       4, 7, 2, 8, 2, 2, 5, 7, 9, 5, 4, 8, 8, 4, 0, 0, 8, 0, 1, 2, 3, 4,\n",
       "       5, 6, 7, 8, 9, 0, 1, 2, 3, 4, 5, 6, 7, 8, 9, 0, 1, 2, 3, 4, 5, 6,\n",
       "       7, 8, 9, 0, 9, 5, 5, 6, 5, 0, 9, 8, 9, 8, 4, 1, 7, 7, 3, 5, 9, 0,\n",
       "       0, 2, 2, 7, 8, 2, 0, 9, 2, 6, 3, 3, 7, 3, 3, 4, 6, 6, 6, 4, 9, 9,\n",
       "       5, 0, 9, 5, 2, 2, 2, 0, 0, 9, 7, 6, 3, 2, 3, 7, 4, 6, 3, 1, 3, 9,\n",
       "       1, 7, 6, 8, 4, 3, 0, 4, 0, 5, 3, 6, 9, 6, 9, 7, 5, 4, 4, 7, 2, 5,\n",
       "       2, 2, 5, 7, 9, 5, 4, 8, 8, 4, 9, 0, 8, 9, 8, 0, 1, 2, 3, 4, 5, 1,\n",
       "       9, 1, 9, 0, 1, 2, 3, 4, 5, 6, 9, 0, 1, 2, 3, 4, 5, 6, 7, 5, 9, 4,\n",
       "       9, 1, 5, 6, 5, 0, 9, 4, 1, 8, 4, 1, 7, 7, 3, 5, 1, 6, 0, 2, 2, 7,\n",
       "       8, 2, 0, 1, 2, 6, 8, 7, 7, 7, 8, 4, 6, 6, 6, 9, 9, 1, 5, 6, 9, 5,\n",
       "       2, 8, 0, 1, 7, 6, 3, 2, 1, 7, 9, 6, 3, 1, 3, 9, 1, 9, 6, 8, 4, 3,\n",
       "       1, 4, 0, 5, 3, 6, 9, 6, 1, 7, 5, 4, 4, 7, 2, 2, 5, 7, 8, 5, 9, 4,\n",
       "       5, 0, 8, 9, 8, 0, 1, 2, 3, 4, 5, 6, 7, 8, 9, 0, 1, 2, 8, 4, 5, 6,\n",
       "       7, 8, 9, 0, 1, 2, 8, 4, 5, 6, 7, 8, 9, 0, 9, 5, 5, 6, 5, 0, 9, 8,\n",
       "       9, 8, 4, 1, 7, 7, 8, 5, 1, 0, 0, 2, 2, 7, 8, 2, 0, 1, 2, 6, 8, 8,\n",
       "       7, 5, 8, 4, 6, 6, 6, 4, 9, 1, 5, 0, 9, 5, 2, 8, 2, 0, 0, 1, 7, 6,\n",
       "       3, 2, 1, 4, 4, 6, 3, 1, 3, 9, 1, 7, 6, 8, 4, 8, 1, 4, 0, 5, 3, 6,\n",
       "       9, 6, 1, 7, 5, 4, 4, 7, 2, 8, 2, 2, 5, 7, 9, 5, 4, 8, 8, 4, 9, 0,\n",
       "       8, 9, 8])"
      ]
     },
     "execution_count": 76,
     "metadata": {},
     "output_type": "execute_result"
    }
   ],
   "source": [
    "X_pred"
   ]
  },
  {
   "cell_type": "code",
   "execution_count": 77,
   "metadata": {},
   "outputs": [
    {
     "data": {
      "text/plain": [
       "0.916247906197655"
      ]
     },
     "execution_count": 77,
     "metadata": {},
     "output_type": "execute_result"
    }
   ],
   "source": [
    "multi_class.score(Xtest, ytest)"
   ]
  },
  {
   "cell_type": "code",
   "execution_count": 78,
   "metadata": {},
   "outputs": [],
   "source": [
    "# now to add the cluster assignment"
   ]
  },
  {
   "cell_type": "code",
   "execution_count": 79,
   "metadata": {},
   "outputs": [
    {
     "data": {
      "text/plain": [
       "array([1, 6, 6, ..., 6, 2, 2], dtype=int64)"
      ]
     },
     "execution_count": 79,
     "metadata": {},
     "output_type": "execute_result"
    }
   ],
   "source": [
    "assignment"
   ]
  },
  {
   "cell_type": "code",
   "execution_count": 80,
   "metadata": {},
   "outputs": [
    {
     "data": {
      "text/plain": [
       "(1797, 64)"
      ]
     },
     "execution_count": 80,
     "metadata": {},
     "output_type": "execute_result"
    }
   ],
   "source": [
    "X.shape"
   ]
  },
  {
   "cell_type": "code",
   "execution_count": 81,
   "metadata": {},
   "outputs": [],
   "source": [
    "new_data = np.insert(X,64, assignment, axis =1)"
   ]
  },
  {
   "cell_type": "code",
   "execution_count": 82,
   "metadata": {},
   "outputs": [
    {
     "data": {
      "text/plain": [
       "(1797, 65)"
      ]
     },
     "execution_count": 82,
     "metadata": {},
     "output_type": "execute_result"
    }
   ],
   "source": [
    "new_data.shape"
   ]
  },
  {
   "cell_type": "code",
   "execution_count": 83,
   "metadata": {},
   "outputs": [
    {
     "data": {
      "text/plain": [
       "array([[ 0.        , -0.30383973, -0.20478575, ..., -2.06789093,\n",
       "        -0.36449638,  1.        ],\n",
       "       [ 0.        , -0.30383973, -5.20478575, ..., -2.06789093,\n",
       "        -0.36449638,  6.        ],\n",
       "       [ 0.        , -0.30383973, -5.20478575, ...,  6.93210907,\n",
       "        -0.36449638,  6.        ],\n",
       "       ...,\n",
       "       [ 0.        , -0.30383973, -4.20478575, ..., -2.06789093,\n",
       "        -0.36449638,  6.        ],\n",
       "       [ 0.        , -0.30383973, -3.20478575, ..., -2.06789093,\n",
       "        -0.36449638,  2.        ],\n",
       "       [ 0.        , -0.30383973,  4.79521425, ..., -1.06789093,\n",
       "        -0.36449638,  2.        ]])"
      ]
     },
     "execution_count": 83,
     "metadata": {},
     "output_type": "execute_result"
    }
   ],
   "source": [
    "new_data"
   ]
  },
  {
   "cell_type": "code",
   "execution_count": 84,
   "metadata": {},
   "outputs": [],
   "source": [
    "Xtrain = new_data[:1200]\n",
    "Xtest = new_data[1200:]\n",
    "\n",
    "ytrain = y[:1200]\n",
    "ytest = y[1200:]"
   ]
  },
  {
   "cell_type": "code",
   "execution_count": 85,
   "metadata": {},
   "outputs": [
    {
     "data": {
      "text/plain": [
       "LogisticRegression(C=1.0, class_weight=None, dual=False, fit_intercept=True,\n",
       "          intercept_scaling=1, max_iter=100, multi_class='multinomial',\n",
       "          n_jobs=None, penalty='l2', random_state=None, solver='newton-cg',\n",
       "          tol=0.0001, verbose=0, warm_start=False)"
      ]
     },
     "execution_count": 85,
     "metadata": {},
     "output_type": "execute_result"
    }
   ],
   "source": [
    "multi_class.fit(Xtrain, ytrain)"
   ]
  },
  {
   "cell_type": "code",
   "execution_count": 86,
   "metadata": {},
   "outputs": [
    {
     "data": {
      "text/plain": [
       "0.9179229480737019"
      ]
     },
     "execution_count": 86,
     "metadata": {},
     "output_type": "execute_result"
    }
   ],
   "source": [
    "multi_class.score(Xtest, ytest)"
   ]
  },
  {
   "cell_type": "code",
   "execution_count": null,
   "metadata": {},
   "outputs": [],
   "source": []
  },
  {
   "cell_type": "code",
   "execution_count": null,
   "metadata": {},
   "outputs": [],
   "source": []
  },
  {
   "cell_type": "code",
   "execution_count": null,
   "metadata": {},
   "outputs": [],
   "source": []
  },
  {
   "cell_type": "code",
   "execution_count": null,
   "metadata": {},
   "outputs": [],
   "source": []
  },
  {
   "cell_type": "code",
   "execution_count": null,
   "metadata": {},
   "outputs": [],
   "source": []
  },
  {
   "cell_type": "code",
   "execution_count": null,
   "metadata": {},
   "outputs": [],
   "source": []
  },
  {
   "cell_type": "code",
   "execution_count": null,
   "metadata": {},
   "outputs": [],
   "source": []
  },
  {
   "cell_type": "code",
   "execution_count": null,
   "metadata": {},
   "outputs": [],
   "source": []
  }
 ],
 "metadata": {
  "kernelspec": {
   "display_name": "Python 3",
   "language": "python",
   "name": "python3"
  },
  "language_info": {
   "codemirror_mode": {
    "name": "ipython",
    "version": 3
   },
   "file_extension": ".py",
   "mimetype": "text/x-python",
   "name": "python",
   "nbconvert_exporter": "python",
   "pygments_lexer": "ipython3",
   "version": "3.6.5"
  }
 },
 "nbformat": 4,
 "nbformat_minor": 2
}
